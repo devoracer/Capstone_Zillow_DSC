{
 "cells": [
  {
   "cell_type": "markdown",
   "id": "29c574c4",
   "metadata": {},
   "source": [
    "## Data Wrangling for Zillow Rental/House prices"
   ]
  },
  {
   "cell_type": "code",
   "execution_count": 1,
   "id": "26c4c305",
   "metadata": {},
   "outputs": [],
   "source": [
    "#Import libraries that will be used:\n",
    "\n",
    "import pandas as pd\n",
    "import matplotlib.pyplot as plt\n",
    "import seaborn as sns"
   ]
  },
  {
   "cell_type": "code",
   "execution_count": 2,
   "id": "bead0ada",
   "metadata": {},
   "outputs": [],
   "source": [
    "#Pull in the csv files from the dowload folder\n",
    "#median rent\n",
    "city_median_rent_all_homes = pd.read_csv('../Zillow_housing_data_capstone1/City_MedianRentalPrice_AllHomes.csv')"
   ]
  },
  {
   "cell_type": "code",
   "execution_count": 3,
   "id": "865b1b98",
   "metadata": {},
   "outputs": [],
   "source": [
    "#Median house price\n",
    "home_prices_all = pd.read_csv('../Zillow_housing_data_capstone1/City_Zhvi_AllHomes.csv')"
   ]
  },
  {
   "cell_type": "code",
   "execution_count": null,
   "id": "132657ee",
   "metadata": {},
   "outputs": [],
   "source": []
  },
  {
   "cell_type": "code",
   "execution_count": null,
   "id": "5577464a",
   "metadata": {},
   "outputs": [],
   "source": []
  },
  {
   "cell_type": "code",
   "execution_count": null,
   "id": "2099a7bc",
   "metadata": {},
   "outputs": [],
   "source": []
  },
  {
   "cell_type": "code",
   "execution_count": null,
   "id": "2818331e",
   "metadata": {},
   "outputs": [],
   "source": []
  },
  {
   "cell_type": "code",
   "execution_count": null,
   "id": "be613eec",
   "metadata": {},
   "outputs": [],
   "source": []
  },
  {
   "cell_type": "code",
   "execution_count": null,
   "id": "f08e3353",
   "metadata": {},
   "outputs": [],
   "source": []
  },
  {
   "cell_type": "code",
   "execution_count": null,
   "id": "1c35d0fb",
   "metadata": {},
   "outputs": [],
   "source": []
  },
  {
   "cell_type": "code",
   "execution_count": null,
   "id": "8a1db803",
   "metadata": {},
   "outputs": [],
   "source": []
  },
  {
   "cell_type": "code",
   "execution_count": null,
   "id": "44badb7a",
   "metadata": {},
   "outputs": [],
   "source": []
  },
  {
   "cell_type": "code",
   "execution_count": null,
   "id": "765c47ba",
   "metadata": {},
   "outputs": [],
   "source": []
  }
 ],
 "metadata": {
  "kernelspec": {
   "display_name": "Python 3 (ipykernel)",
   "language": "python",
   "name": "python3"
  },
  "language_info": {
   "codemirror_mode": {
    "name": "ipython",
    "version": 3
   },
   "file_extension": ".py",
   "mimetype": "text/x-python",
   "name": "python",
   "nbconvert_exporter": "python",
   "pygments_lexer": "ipython3",
   "version": "3.9.7"
  }
 },
 "nbformat": 4,
 "nbformat_minor": 5
}
